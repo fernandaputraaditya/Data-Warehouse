{
 "cells": [
  {
   "cell_type": "code",
   "execution_count": 1,
   "metadata": {},
   "outputs": [
    {
     "data": {
      "text/html": [
       "<style>div.output_scroll { height: 44em; }</style>"
      ],
      "text/plain": [
       "<IPython.core.display.HTML object>"
      ]
     },
     "metadata": {},
     "output_type": "display_data"
    }
   ],
   "source": [
    "import pandas as pd\n",
    "import sqlite3\n",
    "import math\n",
    "import datetime \n",
    "import numpy as np\n",
    "import matplotlib.pyplot as plt\n",
    "plt.style.use('fivethirtyeight')\n",
    "\n",
    "from IPython.core.display import display, HTML\n",
    "display(HTML(\"<style>div.output_scroll { height: 44em; }</style>\"))"
   ]
  },
  {
   "cell_type": "code",
   "execution_count": 2,
   "metadata": {},
   "outputs": [],
   "source": [
    "conn = sqlite3.connect('database.db')"
   ]
  },
  {
   "cell_type": "code",
   "execution_count": 3,
   "metadata": {},
   "outputs": [],
   "source": [
    "c = conn.cursor()"
   ]
  },
  {
   "cell_type": "markdown",
   "metadata": {},
   "source": [
    "# Desain Database Data Warehouse\n",
    "<img src=\"Desain Database.png\">"
   ]
  },
  {
   "cell_type": "code",
   "execution_count": 4,
   "metadata": {},
   "outputs": [
    {
     "data": {
      "text/plain": [
       "<sqlite3.Cursor at 0x2037ce1e3b0>"
      ]
     },
     "execution_count": 4,
     "metadata": {},
     "output_type": "execute_result"
    }
   ],
   "source": [
    "c.executescript('drop table if exists customer')\n",
    "c.executescript('drop table if exists produk')\n",
    "c.executescript('drop table if exists transaksi')\n",
    "c.execute(\"CREATE TABLE IF NOT EXISTS 'customer' ('id' INT, 'nama_cust' VARCHAR(255) NULL, 'nama_kota' VARCHAR(255) NULL, PRIMARY KEY ('id'))\")\n",
    "c.execute(\"CREATE TABLE IF NOT EXISTS 'produk' ('id' INT, 'nama_produk' VARCHAR(255) NULL, PRIMARY KEY ('id'))\")\n",
    "c.execute(\"CREATE TABLE IF NOT EXISTS 'transaksi' ('id', 'tanggal_transaksi' DATE NULL, 'quantity' INT NULL, 'customer_id' INT NOT NULL, 'produk_id' INT NOT NULL, PRIMARY KEY ('id'), FOREIGN KEY ('customer_id') REFERENCES 'customer' ('id') ON DELETE NO ACTION ON UPDATE NO ACTION, FOREIGN KEY ('produk_id') REFERENCES 'produk' ('id') ON DELETE NO ACTION ON UPDATE NO ACTION)\")"
   ]
  },
  {
   "cell_type": "code",
   "execution_count": 10,
   "metadata": {},
   "outputs": [
    {
     "data": {
      "text/html": [
       "<div>\n",
       "<style scoped>\n",
       "    .dataframe tbody tr th:only-of-type {\n",
       "        vertical-align: middle;\n",
       "    }\n",
       "\n",
       "    .dataframe tbody tr th {\n",
       "        vertical-align: top;\n",
       "    }\n",
       "\n",
       "    .dataframe thead th {\n",
       "        text-align: right;\n",
       "    }\n",
       "</style>\n",
       "<table border=\"1\" class=\"dataframe\">\n",
       "  <thead>\n",
       "    <tr style=\"text-align: right;\">\n",
       "      <th></th>\n",
       "      <th>Tanggal Transaksi</th>\n",
       "      <th>Quantity</th>\n",
       "      <th>Nama Customer</th>\n",
       "      <th>Nama Kota</th>\n",
       "      <th>Nama Produk</th>\n",
       "    </tr>\n",
       "  </thead>\n",
       "  <tbody>\n",
       "    <tr>\n",
       "      <th>0</th>\n",
       "      <td>08/11/2017</td>\n",
       "      <td>2</td>\n",
       "      <td>Claire Gute</td>\n",
       "      <td>Henderson</td>\n",
       "      <td>Bush Somerset Collection Bookcase</td>\n",
       "    </tr>\n",
       "    <tr>\n",
       "      <th>1</th>\n",
       "      <td>08/11/2017</td>\n",
       "      <td>3</td>\n",
       "      <td>Claire Gute</td>\n",
       "      <td>Henderson</td>\n",
       "      <td>Hon Deluxe Fabric Upholstered Stacking Chairs,...</td>\n",
       "    </tr>\n",
       "    <tr>\n",
       "      <th>2</th>\n",
       "      <td>12/06/2017</td>\n",
       "      <td>4</td>\n",
       "      <td>Darrin Van Huff</td>\n",
       "      <td>Los Angeles</td>\n",
       "      <td>Self-Adhesive Address Labels for Typewriters b...</td>\n",
       "    </tr>\n",
       "    <tr>\n",
       "      <th>3</th>\n",
       "      <td>11/10/2016</td>\n",
       "      <td>3</td>\n",
       "      <td>Sean O'Donnell</td>\n",
       "      <td>Fort Lauderdale</td>\n",
       "      <td>Bretford CR4500 Series Slim Rectangular Table</td>\n",
       "    </tr>\n",
       "    <tr>\n",
       "      <th>4</th>\n",
       "      <td>11/10/2016</td>\n",
       "      <td>5</td>\n",
       "      <td>Sean O'Donnell</td>\n",
       "      <td>Fort Lauderdale</td>\n",
       "      <td>Eldon Fold 'N Roll Cart System</td>\n",
       "    </tr>\n",
       "    <tr>\n",
       "      <th>...</th>\n",
       "      <td>...</td>\n",
       "      <td>...</td>\n",
       "      <td>...</td>\n",
       "      <td>...</td>\n",
       "      <td>...</td>\n",
       "    </tr>\n",
       "    <tr>\n",
       "      <th>495</th>\n",
       "      <td>27/12/2016</td>\n",
       "      <td>1</td>\n",
       "      <td>Maribeth Dona</td>\n",
       "      <td>Fayetteville</td>\n",
       "      <td>Strathmore #10 Envelopes, Ultimate White</td>\n",
       "    </tr>\n",
       "    <tr>\n",
       "      <th>496</th>\n",
       "      <td>25/07/2017</td>\n",
       "      <td>6</td>\n",
       "      <td>Sanjit Chand</td>\n",
       "      <td>Costa Mesa</td>\n",
       "      <td>Clear Mylar Reinforcing Strips</td>\n",
       "    </tr>\n",
       "    <tr>\n",
       "      <th>497</th>\n",
       "      <td>25/07/2017</td>\n",
       "      <td>2</td>\n",
       "      <td>Sanjit Chand</td>\n",
       "      <td>Costa Mesa</td>\n",
       "      <td>Howard Miller 14-1/2\" Diameter Chrome Round Wa...</td>\n",
       "    </tr>\n",
       "    <tr>\n",
       "      <th>498</th>\n",
       "      <td>25/07/2017</td>\n",
       "      <td>6</td>\n",
       "      <td>Sanjit Chand</td>\n",
       "      <td>Costa Mesa</td>\n",
       "      <td>DMI Arturo Collection Mission-style Design Woo...</td>\n",
       "    </tr>\n",
       "    <tr>\n",
       "      <th>499</th>\n",
       "      <td>25/07/2017</td>\n",
       "      <td>6</td>\n",
       "      <td>Sanjit Chand</td>\n",
       "      <td>Costa Mesa</td>\n",
       "      <td>Deflect-O Glasstique Clear Desk Accessories</td>\n",
       "    </tr>\n",
       "  </tbody>\n",
       "</table>\n",
       "<p>500 rows × 5 columns</p>\n",
       "</div>"
      ],
      "text/plain": [
       "    Tanggal Transaksi  Quantity    Nama Customer        Nama Kota  \\\n",
       "0          08/11/2017         2      Claire Gute        Henderson   \n",
       "1          08/11/2017         3      Claire Gute        Henderson   \n",
       "2          12/06/2017         4  Darrin Van Huff      Los Angeles   \n",
       "3          11/10/2016         3   Sean O'Donnell  Fort Lauderdale   \n",
       "4          11/10/2016         5   Sean O'Donnell  Fort Lauderdale   \n",
       "..                ...       ...              ...              ...   \n",
       "495        27/12/2016         1    Maribeth Dona     Fayetteville   \n",
       "496        25/07/2017         6     Sanjit Chand       Costa Mesa   \n",
       "497        25/07/2017         2     Sanjit Chand       Costa Mesa   \n",
       "498        25/07/2017         6     Sanjit Chand       Costa Mesa   \n",
       "499        25/07/2017         6     Sanjit Chand       Costa Mesa   \n",
       "\n",
       "                                           Nama Produk  \n",
       "0                    Bush Somerset Collection Bookcase  \n",
       "1    Hon Deluxe Fabric Upholstered Stacking Chairs,...  \n",
       "2    Self-Adhesive Address Labels for Typewriters b...  \n",
       "3        Bretford CR4500 Series Slim Rectangular Table  \n",
       "4                       Eldon Fold 'N Roll Cart System  \n",
       "..                                                 ...  \n",
       "495           Strathmore #10 Envelopes, Ultimate White  \n",
       "496                     Clear Mylar Reinforcing Strips  \n",
       "497  Howard Miller 14-1/2\" Diameter Chrome Round Wa...  \n",
       "498  DMI Arturo Collection Mission-style Design Woo...  \n",
       "499        Deflect-O Glasstique Clear Desk Accessories  \n",
       "\n",
       "[500 rows x 5 columns]"
      ]
     },
     "execution_count": 10,
     "metadata": {},
     "output_type": "execute_result"
    }
   ],
   "source": [
    "df = pd.read_csv(\"Superstore Sales 2015-2018.csv\")\n",
    "df"
   ]
  },
  {
   "cell_type": "code",
   "execution_count": 18,
   "metadata": {},
   "outputs": [],
   "source": [
    "customer = []\n",
    "transaksi = []\n",
    "produk = []\n",
    "\n",
    "for i,j in df.iterrows():\n",
    "    if j[2] not in customer:\n",
    "        customer.append(j[2])\n",
    "        \n",
    "    k = -1\n",
    "    for index, values in enumerate(customer):\n",
    "        if values == j[2]:\n",
    "            k = index+1\n",
    "            break\n",
    "        \n",
    "    if [j[4]] not in produk:\n",
    "        produk.append([j[4]])\n",
    "\n",
    "    p = -1\n",
    "    for index, values in enumerate(produk):\n",
    "        if values[0] == j[4]:\n",
    "            p = index+1\n",
    "            break\n",
    "\n",
    "    if [j[0], j[1], k, p] not in transaksi:\n",
    "        transaksi.append([j[0], j[1], k, p])"
   ]
  },
  {
   "cell_type": "code",
   "execution_count": 3,
   "metadata": {},
   "outputs": [
    {
     "ename": "NameError",
     "evalue": "name 'c' is not defined",
     "output_type": "error",
     "traceback": [
      "\u001b[1;31m---------------------------------------------------------------------------\u001b[0m",
      "\u001b[1;31mNameError\u001b[0m                                 Traceback (most recent call last)",
      "\u001b[1;32m<ipython-input-3-a7f35ca92949>\u001b[0m in \u001b[0;36m<module>\u001b[1;34m\u001b[0m\n\u001b[1;32m----> 1\u001b[1;33m \u001b[0mc\u001b[0m\u001b[1;33m.\u001b[0m\u001b[0mexecute\u001b[0m\u001b[1;33m(\u001b[0m\u001b[1;34m\"DELETE FROM PRODUK\"\u001b[0m\u001b[1;33m)\u001b[0m\u001b[1;33m\u001b[0m\u001b[1;33m\u001b[0m\u001b[0m\n\u001b[0m\u001b[0;32m      2\u001b[0m \u001b[1;32mfor\u001b[0m \u001b[0mindex\u001b[0m\u001b[1;33m,\u001b[0m \u001b[0mi\u001b[0m \u001b[1;32min\u001b[0m \u001b[0menumerate\u001b[0m\u001b[1;33m(\u001b[0m\u001b[0mproduk\u001b[0m\u001b[1;33m)\u001b[0m\u001b[1;33m:\u001b[0m\u001b[1;33m\u001b[0m\u001b[1;33m\u001b[0m\u001b[0m\n\u001b[0;32m      3\u001b[0m     \u001b[0mc\u001b[0m\u001b[1;33m.\u001b[0m\u001b[0mexecute\u001b[0m\u001b[1;33m(\u001b[0m\u001b[1;34m\"INSERT INTO PRODUK ({}, '{}')\"\u001b[0m\u001b[1;33m.\u001b[0m\u001b[0mformat\u001b[0m\u001b[1;33m(\u001b[0m\u001b[0mindex\u001b[0m\u001b[1;33m,\u001b[0m \u001b[0mi\u001b[0m\u001b[1;33m)\u001b[0m\u001b[1;33m)\u001b[0m\u001b[1;33m\u001b[0m\u001b[1;33m\u001b[0m\u001b[0m\n\u001b[0;32m      4\u001b[0m \u001b[1;33m\u001b[0m\u001b[0m\n\u001b[0;32m      5\u001b[0m \u001b[0mc\u001b[0m\u001b[1;33m.\u001b[0m\u001b[0mexecute\u001b[0m\u001b[1;33m(\u001b[0m\u001b[1;34m\"DELETE FROM CUSTOMER\"\u001b[0m\u001b[1;33m)\u001b[0m\u001b[1;33m\u001b[0m\u001b[1;33m\u001b[0m\u001b[0m\n",
      "\u001b[1;31mNameError\u001b[0m: name 'c' is not defined"
     ]
    }
   ],
   "source": [
    "c.execute(\"DELETE FROM PRODUK\")\n",
    "for index, i in enumerate(produk):\n",
    "    c.execute(\"INSERT INTO PRODUK ({}, '{}')\".format(index, i))\n",
    "    \n",
    "c.execute(\"DELETE FROM CUSTOMER\")\n",
    "for index, i in enumerate(customer):\n",
    "    c.execute(\"INSERT INTO CUSTOMER ({}, '{}','{}')\".format(index, i[0],i[1]))\n",
    "\n",
    "c.execute(\"DELETE FROM TRANSAKSI\")\n",
    "for index, i in enumerate(transaksi):\n",
    "    c.execute(\"INSERT INTO TRANSAKSI ({}, '{}','{}','{}','{}')\".format(index, i[0],i[1],i[2],i[3]))\n",
    "\n",
    "conn.commit()"
   ]
  },
  {
   "cell_type": "code",
   "execution_count": null,
   "metadata": {},
   "outputs": [],
   "source": []
  }
 ],
 "metadata": {
  "kernelspec": {
   "display_name": "Python 3",
   "language": "python",
   "name": "python3"
  },
  "language_info": {
   "codemirror_mode": {
    "name": "ipython",
    "version": 3
   },
   "file_extension": ".py",
   "mimetype": "text/x-python",
   "name": "python",
   "nbconvert_exporter": "python",
   "pygments_lexer": "ipython3",
   "version": "3.8.5"
  }
 },
 "nbformat": 4,
 "nbformat_minor": 4
}
